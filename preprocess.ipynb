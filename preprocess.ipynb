{
 "cells": [
  {
   "cell_type": "code",
   "execution_count": null,
   "id": "d90513fe",
   "metadata": {},
   "outputs": [],
   "source": [
    "import pandas as pd\n",
    "\n",
    "# Change this to your input file name as needed\n",
    "input_file = \"sgRosa26_sgTrpc6_1uM_NTS_puffing_master_sheet.xlsx - raw_sgRosa26.csv\"\n",
    "output_file = \"subset_data.csv\""
   ]
  },
  {
   "cell_type": "code",
   "execution_count": null,
   "id": "ab3ad596",
   "metadata": {},
   "outputs": [],
   "source": [
    "df = pd.read_csv(input_file, header=None)\n",
    "subset_columns = {}\n",
    "\n",
    "for col in df.columns:\n",
    "    puff_index = int(df[col].iloc[0])\n",
    "    fluorescence = df[col].iloc[1:].reset_index(drop=True)\n",
    "    puff_event_idx = puff_index - 1\n",
    "    start_idx = puff_event_idx - 500\n",
    "    end_idx = puff_event_idx + 600\n",
    "    subset_fluorescence = fluorescence.iloc[start_idx:end_idx].reset_index(drop=True)\n",
    "    new_puff_index = 501\n",
    "    new_column = pd.concat([pd.Series([new_puff_index]), subset_fluorescence], ignore_index=True)\n",
    "    subset_columns[col] = new_column\n",
    "\n",
    "subset_df = pd.DataFrame(subset_columns)\n",
    "print(\"Subset dataframe created with shape:\", subset_df.shape)"
   ]
  },
  {
   "cell_type": "code",
   "execution_count": null,
   "id": "80356283",
   "metadata": {},
   "outputs": [],
   "source": [
    "subset_df.to_csv(output_file, index=False, header=False)\n",
    "print(f\"Subsetted data saved to: {output_file}\")"
   ]
  }
 ],
 "metadata": {
  "kernelspec": {
   "display_name": "Python 3 (ipykernel)",
   "language": "python",
   "name": "python3"
  },
  "language_info": {
   "codemirror_mode": {
    "name": "ipython",
    "version": 3
   },
   "file_extension": ".py",
   "mimetype": "text/x-python",
   "name": "python",
   "nbconvert_exporter": "python",
   "pygments_lexer": "ipython3",
   "version": "3.9.13"
  }
 },
 "nbformat": 4,
 "nbformat_minor": 5
}
