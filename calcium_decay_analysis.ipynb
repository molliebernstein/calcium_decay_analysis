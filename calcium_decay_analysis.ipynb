{
 "cells": [
  {
   "cell_type": "code",
   "execution_count": null,
   "metadata": {},
   "outputs": [],
   "source": [
    "import numpy as np\n",
    "import pandas as pd\n",
    "import matplotlib.pyplot as plt\n",
    "from scipy.optimize import curve_fit"
   ]
  },
  {
   "cell_type": "code",
   "execution_count": null,
   "metadata": {},
   "outputs": [],
   "source": [
    "# -------------------------\n",
    "# 1. Load the Data\n",
    "# -------------------------\n",
    "# Assumes a CSV file without a header, with shape (1110, 35) (rows: time points, columns: cells)\n",
    "file_name = \"sgRosa26_30uM_DHPG_puff_processed.csv\"  # or use the actual file name\n",
    "group_name = file_name.split(\"_\")[0]  # This extracts \"sgRosa26\"\n",
    "data = pd.read_csv(file_name, header=None)\n",
    "data = data.replace([np.inf, -np.inf], np.nan).dropna()\n",
    "raw = data.values  # shape (1110, 35)\n",
    "n_points, n_cells = raw.shape\n",
    "\n",
    "fs = 5.0  # Sampling rate in Hz\n",
    "time = np.arange(n_points) / fs  # time axis in seconds"
   ]
  },
  {
   "cell_type": "code",
   "execution_count": null,
   "metadata": {},
   "outputs": [],
   "source": [
    "# -------------------------\n",
    "# 2. Plot the Raw Signals: Mean ± SEM\n",
    "# -------------------------\n",
    "mean_raw = raw.mean(axis=1)\n",
    "sem_raw = raw.std(axis=1, ddof=1) / np.sqrt(n_cells)\n",
    "\n",
    "plt.figure(figsize=(10, 6))\n",
    "plt.fill_between(time, mean_raw - sem_raw, mean_raw + sem_raw, alpha=0.3, label='SEM')\n",
    "plt.plot(time, mean_raw, 'k-', label='Mean Raw Signal')\n",
    "plt.xlabel('Time (s)')\n",
    "plt.ylabel('Calcium Fluorescence')\n",
    "plt.title('Raw Calcium Fluorescence Signal (Mean ± SEM)')\n",
    "plt.legend()\n",
    "plt.show()"
   ]
  },
  {
   "cell_type": "code",
   "execution_count": null,
   "metadata": {},
   "outputs": [],
   "source": [
    "# -------------------------\n",
    "# 3. Fit a One‐Phase Decay to the Entire Trace for Each Cell\n",
    "# -------------------------\n",
    "# Define the one-phase exponential decay function.\n",
    "def one_phase_decay(t, A, k, C):\n",
    "    return A * np.exp(-k * t) + C\n",
    "\n",
    "# We will store the fitted parameters for each cell and the fitted curves.\n",
    "params = np.zeros((n_cells, 3))      # Each row: [A, k, C]\n",
    "fitted_curves = np.zeros((n_points, n_cells))\n",
    "\n",
    "# Fit the decay using the entire trace (time from 0 to end)\n",
    "for i in range(n_cells):\n",
    "    y_data = raw[:, i]\n",
    "    # Use an initial guess:\n",
    "    # A_guess: difference between the first and last value,\n",
    "    # k_guess: a small decay rate (adjust if needed),\n",
    "    # C_guess: final value of the trace.\n",
    "    A_guess = y_data[0] - y_data[-1]\n",
    "    k_guess = 0.01\n",
    "    C_guess = y_data[-1]\n",
    "    p0 = [A_guess, k_guess, C_guess]\n",
    "    \n",
    "    try:\n",
    "        popt, _ = curve_fit(one_phase_decay, time, y_data, p0=p0, maxfev=10000)\n",
    "    except RuntimeError:\n",
    "        print(f\"Fit did not converge for cell {i}\")\n",
    "        popt = [np.nan, np.nan, np.nan]\n",
    "    params[i, :] = popt\n",
    "    # Compute the fitted curve for all time points.\n",
    "    fitted_curves[:, i] = one_phase_decay(time, *popt)"
   ]
  },
  {
   "cell_type": "code",
   "execution_count": null,
   "metadata": {},
   "outputs": [],
   "source": [
    "# -------------------------\n",
    "# 4. Subtract the Fitted Decay from the Raw Signal\n",
    "# -------------------------\n",
    "# Correct the raw signal by subtracting the fitted decay.\n",
    "corrected_signal = raw - fitted_curves\n",
    "\n",
    "# # Also, plot the average ± SEM of the fitted decay curves.\n",
    "mean_fit = fitted_curves.mean(axis=1)\n",
    "sem_fit = fitted_curves.std(axis=1, ddof=1) / np.sqrt(n_cells)\n",
    "\n",
    "plt.figure(figsize=(10, 6))\n",
    "plt.fill_between(time, mean_fit - sem_fit, mean_fit + sem_fit, alpha=0.3, label='SEM')\n",
    "plt.plot(time, mean_fit, 'r-', label='Mean Fitted Decay')\n",
    "plt.xlabel('Time (s)')\n",
    "plt.ylabel('Fitted Decay')\n",
    "plt.title('Fitted One‐Phase Decay (Mean ± SEM)')\n",
    "plt.legend()\n",
    "plt.show()"
   ]
  },
  {
   "cell_type": "code",
   "execution_count": null,
   "metadata": {},
   "outputs": [],
   "source": [
    "# -------------------------\n",
    "# 5. Calculate Z‐Scores (Baseline: 10 s Before Puff)\n",
    "# -------------------------\n",
    "# The puff is assumed to occur at index 500.\n",
    "puff_idx = 505\n",
    "baseline_start = puff_idx - int(10 * fs)  # 10 seconds before puff (10*5 = 50 points)\n",
    "baseline_end = puff_idx\n",
    "\n",
    "# For each cell, compute the z-score using the 10-second baseline of the corrected signal.\n",
    "zscores = np.zeros_like(raw)\n",
    "for i in range(n_cells):\n",
    "    baseline = corrected_signal[baseline_start:baseline_end, i]\n",
    "    base_mean = baseline.mean()\n",
    "    base_std = baseline.std(ddof=1)\n",
    "    zscores[:, i] = (corrected_signal[:, i] - base_mean) / base_std\n",
    "\n",
    "# Plot the average and SEM of the z-scored signals.\n",
    "mean_z = zscores.mean(axis=1)\n",
    "sem_z = zscores.std(axis=1, ddof=1) / np.sqrt(n_cells)\n",
    "\n",
    "plt.figure(figsize=(10, 6))\n",
    "plt.fill_between(time, mean_z - sem_z, mean_z + sem_z, alpha=0.3, label='SEM')\n",
    "plt.plot(time, mean_z, 'g-', label='Mean Z-score')\n",
    "plt.xlabel('Time (s)')\n",
    "plt.ylabel('Z-score')\n",
    "#plt.title('30uM DHPG sgRosa26 (Mean ± SEM)')\n",
    "plt.legend()\n",
    "plt.show()"
   ]
  }
 ],
 "metadata": {
  "hex_info": {
   "author": "Mollie Bernstein",
   "exported_date": "Thu Jun 26 2025 16:37:11 GMT+0000 (Coordinated Universal Time)",
   "project_id": "0197ad19-505a-7006-a703-3fe094c451c7",
   "version": "draft"
  },
  "kernelspec": {
   "display_name": "Python 3 (ipykernel)",
   "language": "python",
   "name": "python3"
  },
  "language_info": {
   "codemirror_mode": {
    "name": "ipython",
    "version": 3
   },
   "file_extension": ".py",
   "mimetype": "text/x-python",
   "name": "python",
   "nbconvert_exporter": "python",
   "pygments_lexer": "ipython3",
   "version": "3.9.13"
  }
 },
 "nbformat": 4,
 "nbformat_minor": 4
}
